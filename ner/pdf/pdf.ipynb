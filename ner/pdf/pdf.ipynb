{
 "cells": [
  {
   "cell_type": "code",
   "execution_count": 1,
   "metadata": {},
   "outputs": [],
   "source": [
    "from tika import parser"
   ]
  },
  {
   "cell_type": "code",
   "execution_count": 5,
   "metadata": {},
   "outputs": [],
   "source": [
    "import pandas as pd"
   ]
  },
  {
   "cell_type": "code",
   "execution_count": 2,
   "metadata": {},
   "outputs": [],
   "source": [
    "raw = parser.from_file('sample.pdf')"
   ]
  },
  {
   "cell_type": "code",
   "execution_count": 3,
   "metadata": {},
   "outputs": [
    {
     "data": {
      "text/plain": [
       "'\\n\\n\\n\\n\\n\\n\\n\\n\\n\\n\\n\\n\\n\\n\\n\\n\\n\\n\\n\\n\\n\\n\\n\\n\\n\\n\\n\\n\\n\\n\\n\\n\\n\\n\\n\\n\\n\\n\\n\\nConshohocken, PA 19428\\n\\n125 E Elm Street\\n\\nSuite 400\\n\\n100 Airport KPG III, LLC.\\n\\nRemit payment to:\\n\\nInvoice For: Invoice Date:\\n\\n100 Airport KPG III, LLC.\\n\\nUnit Amount\\n\\nINVOICE\\n\\nPO Box 713847\\n\\nCincinnati, OH 45271-3847\\n\\n200 Stevens Drive\\n\\nSuite 100\\n\\nLester, PA 19113\\n\\nAmeriHealth Caritas\\n\\nCharge Date Description\\n\\nPlease detach and enclose this portion with your payment to Ensure Proper Application of your Payment.\\n\\nAmount Enclosed:\\n\\nDue Date:\\n\\n200 Stevens Drive\\n\\nSuite 100\\n\\nLester, PA 19113\\n\\nAmeriHealth Caritas\\n\\nBilling Contact: Meashirl Brown\\n\\nEmail Contact: mbrown1@amerihealthcaritas.com\\n\\nAmount Due:\\n17,657.53\\n\\nInvoice Number:\\n\\n6/1/2018\\n\\nInvoice Number: 39015\\n\\n39015\\n\\n6/1/2018\\n\\n100 6/1/2018  17,657.53 Electric 04/27/18-05/16/18 \\n\\n    17,657.53Balance:\\n\\nPlease pay by due date to avoid late charges.\\n\\nIf you have any questions please contact:\\n\\nTenzin Yeshi at 610-980-7000\\n\\nPO#16299\\n\\n\\n\\nPage 1 of 2\\n\\nAccount Representative\\n\\nYour major account rep is CHRIS PAQUETTE. If you have any\\n\\nquestions about this bill please contact us at 215-841-5527 or by\\n\\nwriting PECO, 2301 Market St, S10-1, Philadelphia, PA\\n\\n19103-1380.\\n\\nOnline: peco.com In Person: 2301 Market St., Philadelphia, PA 19103 By Phone: 215-841-5527\\n\\n2\\n\\nName: 100 AIRPORT KPG III LLC\\n\\nEmergency and Repair\\n\\nAccount Number:\\n\\nPhone Number:\\n\\nService Address:\\n\\n92990-35018\\n\\n610-980-7000\\n\\n100 Stevens Dr, A1 1, Lester\\n\\n800-841-4141\\n\\nThis is the number to call to report power outages, gas leaks\\n\\nor odors, and safety hazards related to PECO Equipment.\\n\\nTAXES & FEES\\n\\nELECTRIC SUPPLY\\n\\nHudson Energy\\n\\n5251 Westheimer Rd.\\n\\nSuite 1000\\n\\nHouston TX 77056\\n\\n877-483-7669\\n\\nPECO ELECTRIC\\n\\nDELIVERY\\n\\nELECTRIC\\n\\n$17,657.53\\n\\nBilling Summary\\n\\nBill Date 05/23/2018\\n\\nThank you for your payment of $17,311.65 on\\n\\n05/21/2018\\n\\nThank you for your payment of $18,983.48 on\\n\\n04/20/2018\\n\\nCurrent Period Charges\\n\\nElectric $17,657.53\\n\\nTotal New Charges $17,657.53\\n\\nTotal Amount Due on 06/18/2018 $17,657.53\\n\\nGeneral Information\\n\\nNext scheduled meter reading:06/19/2018\\n\\n215-841-5527\\n\\nIf you have any questions or concerns, please call 800-494-4000\\n\\nbefore the due date. Si tiene alguna pregunta, favor de llamar al\\n\\nnumero 1-800-494-4000 antes de la fecha de vencimiento.\\n\\npeco.com/service\\n\\nCustomer Self Service - Manage Your Account 24/7\\n\\nStart, stop and move your service\\n\\nReturn only this portion with your check made payable to PECO. Please write your account number on your check.\\n\\n2301 Market Street\\n\\nPhiladelphia, PA 19103-1380\\n\\nPay Today!\\n\\npeco.com/ebill\\n\\nGo paperless: receive and pay your bill online.\\n\\nEnroll in Automatic Payment. Complete form on reverse side.\\n\\nPledge a donation to MEAF. Complete form on reverse side.\\n\\nAccount # 92990-35018\\n\\n877-432-9384\\n\\nPlease pay this amount by\\n\\n06/18/2018\\n\\n$17,657.53\\n\\nPayment Amount $\\n\\n.\\n\\n929903501801000000081690000001\\n\\nPay by phone, a convenience fee will apply ($2.35 fee)\\n\\n10101010101010101010\\n11001000000000010101\\n10000001010111111000\\n10101101001010111011\\n10100100101010101010\\n10000110110000010011\\n10001111001010110000\\n10001011011000101101\\n10110010100100101000\\n11110111000100001001\\n10010101011011000110\\n11100010000100110001\\n11110010101011011000\\n10011011010001010111\\n11111111110110110110\\n11000110101011001001\\n11000100100011001110\\n11000010011010111101\\n10001000100001101010\\n11111111111111111111\\n\\n88\\n01\\n\\n-3\\n3-\\n\\n01\\n00\\n\\n37\\n6-\\n\\n00\\n01\\n\\n-0\\n00\\n\\n05\\n94\\n\\n0100376 01 AB 0.405  **AUTO   T1 0 8801 19428-415400    -C33-B1-P00376-I            FAFATFTDTDTFFTFDDTDFTTAFATAATDAFFTDTFTFADAFFAAFDDFADADAFFFTAATTTF\\n100 AIRPORT KPG III LLC 1010101010101010101011001000000000010101\\n\\n10001001010111111000\\n10100001001010110011\\n10000010101010110110\\n10001110110001110111\\n10011111001011011100\\n10001011011101001011\\n10110010100000000010\\n11110111001000100001\\n10010101000101000110\\n11100010100111101001\\n11110010010010101100\\n10011101011100100111\\n11111111100001100010\\n11011011000010111001\\n11011110110010111000\\n11011111111001111101\\n10001010000001111010\\n11111111111111111111\\n\\n125 E ELM ST STE 400\\nCONSHOHOCKEN, PA 19428-4154\\n\\nTFDDTFDFDTFFFTFDFAFATDDATFTDFFTDFDTDTADTTTDATATFTAAATFATAADTTTAFT\\nPECO - Payment Processing         \\nPO Box 37632             \\nPhiladelphia, PA 19101-0629   \\n\\nPO#16299\\n\\n\\nPSTRM::PDF(F)\\nPX(D)\\nMT( )\\nMP(0)\\nFILE=6R596F-7ACF-1GEJA3-B1.pdf;;\\n\\n\\n\\n\\nPage 2 of 2\\n\\nAccount Number: 92990-35018\\n\\nOnline: peco.com In Person: 2301 Market St., Philadelphia, PA 19103 By Phone: 215-841-5527\\n\\n3\\n\\nMeter Information\\n\\nRead\\n\\nDates\\n\\nMeter\\n\\nNumber\\n\\nLoad Type\\n\\nReading\\n\\nType\\n\\nMeter Reading\\n\\nPrevious Present\\n\\nDifference\\n\\nMultiplier\\n\\nX\\n\\nTotal\\n\\nUsage\\n\\n04/17-05/16 021583162 General Service Power Factor Actual Actual 0.9777 1 0.978\\n\\n04/17-05/16 021583162 General Service Pk kW Actual Actual 0.3960 1,200 475.20\\n\\n04/17-05/16 021583162 General Service Tot kWh Actual Actual 183.1200 1,200 219,744\\n\\n04/17-05/16 021583162 General Service GS Off Pk kW Actual Actual 0.3560 1,200 427.20\\n\\n04/17-05/16 021583162 General Service On Pk Kw Actual Actual 0.3960 1,200 475.20\\n\\nDistribution kW - Measured : 475.0\\n\\nTotal kWh Used: 219,744\\n\\nElectric High Tension Service >500kW\\n\\nService Period 04/17/2018 to 05/16/2018 - 29 days\\n\\nPECO ELECTRIC DELIVERY $2,752.75\\n\\nCustomer Charge 299.78\\n\\nDistribution Charges 475 kW X 4.77000 2,265.75\\n\\nDistribution Charges 219,744 kWh X -0.00100 -219.74\\n\\nDistribution System Improvement\\n\\nCharge\\n\\n13.98\\n\\nEnergy Eff & Nonbypassable Trans 401 kW X 0.98000 392.98\\n\\nELECTRIC SUPPLY $14,739.91\\n\\nHudson Energy Charges (877-483-7669)\\n\\nADJUSTMENT -0.01\\n\\nENERGY CHARGE: 219744 KH * $0.0595/KH 13,074.77\\n\\nGross Receipts Tax 819.80\\n\\nSales Tax 845.35\\n\\nTAXES & FEES $164.87\\n\\nState Tax Adjustment -0.28\\n\\nSales Tax 165.15\\n\\nTotal Current Charges\\n\\n$17,657.53\\n\\nMessage Center\\n\\nFrom PECO:\\n\\n5.90% estimated Gross Receipts Tax of $982.20\\n\\nincluded in new charges.\\n\\nYour estimated electric price to compare adder is\\n\\n$0.00823 per kWh, which includes ancillary charges\\n\\nand the purchased generation adjustment but\\n\\nexcludes energy and capacity. This may change\\n\\nmonthly. For more information and supplier offers\\n\\nvisit PAPowerSwitch.com.\\n\\nShopping Information Box\\n\\nWhen shopping for a competitive electric/natural gas\\n\\nsupplier, please provide the following:\\n\\nAccount Number: 92990-35018\\n\\nElectric Rate:Electric High Tension Service >500kW\\n\\nIf you are purchasing the energy you use from a\\n\\ncompetitive supplier, it is important to understand the\\n\\nterms of your contract and expiration date.\\n\\n10101010101010101010\\n11001000000000010101\\n10000001010111111000\\n10101101001010111011\\n10100100101010101010\\n10000110110000010011\\n10001111001010110000\\n10001011011000101101\\n10110010100100101000\\n11110111000100001001\\n10010101011011000110\\n11100010000100110001\\n11110010101011011000\\n10011011010001010111\\n11111111110110110110\\n11000110101011001001\\n11000100100011001110\\n11000010011010111101\\n10001000100001101010\\n11111111111111111111\\n\\n88\\n01\\n\\n-3\\n3-\\n\\n01\\n00\\n\\n37\\n6-\\n\\n00\\n01\\n\\n-0\\n00\\n\\n05\\n94\\n\\nPO#16299\\n\\n\\nPSTRM::PDF(F)\\nPX(D)\\nMT( )\\nMP(0)\\nFILE=6R596F-7ACF-1GEJA3-B1.pdf;;\\n\\n\\n\\n'"
      ]
     },
     "execution_count": 3,
     "metadata": {},
     "output_type": "execute_result"
    }
   ],
   "source": [
    "raw['content']"
   ]
  },
  {
   "cell_type": "code",
   "execution_count": 7,
   "metadata": {},
   "outputs": [],
   "source": [
    "for i in raw['content'].split():\n",
    "    #print(i)\n",
    "    pass"
   ]
  },
  {
   "cell_type": "code",
   "execution_count": 32,
   "metadata": {},
   "outputs": [],
   "source": [
    "df=pd.DataFrame(raw['content'].split(),columns=['words'])"
   ]
  },
  {
   "cell_type": "code",
   "execution_count": 33,
   "metadata": {},
   "outputs": [
    {
     "data": {
      "text/html": [
       "<div>\n",
       "<style scoped>\n",
       "    .dataframe tbody tr th:only-of-type {\n",
       "        vertical-align: middle;\n",
       "    }\n",
       "\n",
       "    .dataframe tbody tr th {\n",
       "        vertical-align: top;\n",
       "    }\n",
       "\n",
       "    .dataframe thead th {\n",
       "        text-align: right;\n",
       "    }\n",
       "</style>\n",
       "<table border=\"1\" class=\"dataframe\">\n",
       "  <thead>\n",
       "    <tr style=\"text-align: right;\">\n",
       "      <th></th>\n",
       "      <th>words</th>\n",
       "    </tr>\n",
       "  </thead>\n",
       "  <tbody>\n",
       "    <tr>\n",
       "      <th>0</th>\n",
       "      <td>Conshohocken,</td>\n",
       "    </tr>\n",
       "    <tr>\n",
       "      <th>1</th>\n",
       "      <td>PA</td>\n",
       "    </tr>\n",
       "    <tr>\n",
       "      <th>2</th>\n",
       "      <td>19428</td>\n",
       "    </tr>\n",
       "    <tr>\n",
       "      <th>3</th>\n",
       "      <td>125</td>\n",
       "    </tr>\n",
       "    <tr>\n",
       "      <th>4</th>\n",
       "      <td>E</td>\n",
       "    </tr>\n",
       "  </tbody>\n",
       "</table>\n",
       "</div>"
      ],
      "text/plain": [
       "           words\n",
       "0  Conshohocken,\n",
       "1             PA\n",
       "2          19428\n",
       "3            125\n",
       "4              E"
      ]
     },
     "execution_count": 33,
     "metadata": {},
     "output_type": "execute_result"
    }
   ],
   "source": [
    "df.head()"
   ]
  },
  {
   "cell_type": "code",
   "execution_count": 34,
   "metadata": {},
   "outputs": [],
   "source": [
    "df.to_csv('pdf_1.csv',index=False)"
   ]
  },
  {
   "cell_type": "code",
   "execution_count": 35,
   "metadata": {},
   "outputs": [],
   "source": [
    "df['words']=df['words'].apply(lambda x: str(x).strip(',|.|:|;'))"
   ]
  },
  {
   "cell_type": "code",
   "execution_count": 36,
   "metadata": {},
   "outputs": [
    {
     "data": {
      "text/html": [
       "<div>\n",
       "<style scoped>\n",
       "    .dataframe tbody tr th:only-of-type {\n",
       "        vertical-align: middle;\n",
       "    }\n",
       "\n",
       "    .dataframe tbody tr th {\n",
       "        vertical-align: top;\n",
       "    }\n",
       "\n",
       "    .dataframe thead th {\n",
       "        text-align: right;\n",
       "    }\n",
       "</style>\n",
       "<table border=\"1\" class=\"dataframe\">\n",
       "  <thead>\n",
       "    <tr style=\"text-align: right;\">\n",
       "      <th></th>\n",
       "      <th>words</th>\n",
       "    </tr>\n",
       "  </thead>\n",
       "  <tbody>\n",
       "    <tr>\n",
       "      <th>0</th>\n",
       "      <td>Conshohocken</td>\n",
       "    </tr>\n",
       "    <tr>\n",
       "      <th>1</th>\n",
       "      <td>PA</td>\n",
       "    </tr>\n",
       "    <tr>\n",
       "      <th>2</th>\n",
       "      <td>19428</td>\n",
       "    </tr>\n",
       "    <tr>\n",
       "      <th>3</th>\n",
       "      <td>125</td>\n",
       "    </tr>\n",
       "    <tr>\n",
       "      <th>4</th>\n",
       "      <td>E</td>\n",
       "    </tr>\n",
       "  </tbody>\n",
       "</table>\n",
       "</div>"
      ],
      "text/plain": [
       "          words\n",
       "0  Conshohocken\n",
       "1            PA\n",
       "2         19428\n",
       "3           125\n",
       "4             E"
      ]
     },
     "execution_count": 36,
     "metadata": {},
     "output_type": "execute_result"
    }
   ],
   "source": [
    "df.head()"
   ]
  },
  {
   "cell_type": "code",
   "execution_count": 37,
   "metadata": {},
   "outputs": [],
   "source": [
    "df['tag']='O'"
   ]
  },
  {
   "cell_type": "code",
   "execution_count": 38,
   "metadata": {},
   "outputs": [],
   "source": [
    "df.to_csv('pdf_1.csv',index=False)"
   ]
  },
  {
   "cell_type": "code",
   "execution_count": null,
   "metadata": {},
   "outputs": [],
   "source": []
  }
 ],
 "metadata": {
  "kernelspec": {
   "display_name": "Python 3",
   "language": "python",
   "name": "python3"
  },
  "language_info": {
   "codemirror_mode": {
    "name": "ipython",
    "version": 3
   },
   "file_extension": ".py",
   "mimetype": "text/x-python",
   "name": "python",
   "nbconvert_exporter": "python",
   "pygments_lexer": "ipython3",
   "version": "3.6.10"
  }
 },
 "nbformat": 4,
 "nbformat_minor": 4
}
